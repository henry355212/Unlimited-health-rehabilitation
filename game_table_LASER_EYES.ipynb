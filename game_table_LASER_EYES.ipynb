{
 "cells": [
  {
   "cell_type": "code",
   "execution_count": 2,
   "metadata": {},
   "outputs": [
    {
     "name": "stdout",
     "output_type": "stream",
     "text": [
      "Connect ok\n"
     ]
    }
   ],
   "source": [
    "import sqlite3\n",
    "db = sqlite3.connect('game.db')\n",
    "cursor = db.cursor()\n",
    "print('Connect ok')"
   ]
  },
  {
   "cell_type": "code",
   "execution_count": 3,
   "metadata": {
    "scrolled": true
   },
   "outputs": [
    {
     "name": "stdout",
     "output_type": "stream",
     "text": [
      "Table created.\n"
     ]
    }
   ],
   "source": [
    "# Create table\n",
    "cursor.execute('''CREATE TABLE `laser_eye` ( `id`     INTEGER   PRIMARY KEY   AUTOINCREMENT ,\n",
    "                                           `name`   VARCHAR   NOT           NULL , \n",
    "                                           `score`  INT(255)  NOT           NULL , \n",
    "                                           `time`   DATETIME  NOT           NULL            DEFAULT CURRENT_TIMESTAMP )''')\n",
    "\n",
    "print('Table created.')\n",
    "db.commit()"
   ]
  },
  {
   "cell_type": "code",
   "execution_count": null,
   "metadata": {},
   "outputs": [],
   "source": [
    "User='test'\n",
    "Score=50\n",
    "cursor.execute('INSERT INTO `laser_eye`( `name`, `score`) VALUES (?,?)',[User,Score])\n",
    "db.commit()"
   ]
  },
  {
   "cell_type": "code",
   "execution_count": 16,
   "metadata": {},
   "outputs": [
    {
     "data": {
      "text/plain": [
       "[(1, 'TING_HAO', 11, '2020-09-22 13:27:10'),\n",
       " (2, 'TING_HAO', 2, '2020-09-22 14:20:22'),\n",
       " (3, 'TING_HAO', 23, '2020-09-22 14:29:40'),\n",
       " (4, 'TING_HAO', 14, '2020-09-22 14:30:11'),\n",
       " (5, 'TING_HAO', 0, '2020-09-22 14:32:28'),\n",
       " (6, 'guest', 3, '2020-09-22 14:53:03'),\n",
       " (7, 'guest', 15, '2020-09-22 14:53:26')]"
      ]
     },
     "execution_count": 16,
     "metadata": {},
     "output_type": "execute_result"
    }
   ],
   "source": [
    "test = cursor.execute('''SELECT * FROM `laser_eye`''')\n",
    "db.commit()\n",
    "A=list(test)\n",
    "A"
   ]
  },
  {
   "cell_type": "code",
   "execution_count": 12,
   "metadata": {},
   "outputs": [],
   "source": [
    "from datetime import datetime,timezone,timedelta\n",
    "def TW_Time(T):\n",
    "    dt1 = datetime.strptime(T, '%Y-%m-%d %H:%M:%S').replace(tzinfo=timezone.utc)\n",
    "    dt2 = dt1.astimezone(timezone(timedelta(hours=8))) # 轉換時區 -> 東八區\n",
    "    return dt2.strftime(\"%Y-%m-%d %H:%M:%S\")\n"
   ]
  },
  {
   "cell_type": "code",
   "execution_count": 15,
   "metadata": {
    "scrolled": true
   },
   "outputs": [
    {
     "name": "stdout",
     "output_type": "stream",
     "text": [
      "目前分數:   11   2020-09-22 21:27:10\n"
     ]
    }
   ],
   "source": [
    "CS = list(cursor.execute('SELECT * FROM `laser_eye` WHERE `name` = ? Order BY `time` DESC',['TING_HAO']))\n",
    "if len(CS):\n",
    "    print(f'目前分數:   {CS[0][2]}   {TW_Time(CS[0][3])}')"
   ]
  }
 ],
 "metadata": {
  "kernelspec": {
   "display_name": "Python 3",
   "language": "python",
   "name": "python3"
  },
  "language_info": {
   "codemirror_mode": {
    "name": "ipython",
    "version": 3
   },
   "file_extension": ".py",
   "mimetype": "text/x-python",
   "name": "python",
   "nbconvert_exporter": "python",
   "pygments_lexer": "ipython3",
   "version": "3.7.9"
  }
 },
 "nbformat": 4,
 "nbformat_minor": 4
}
