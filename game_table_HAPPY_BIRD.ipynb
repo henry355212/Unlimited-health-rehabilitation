{
 "cells": [
  {
   "cell_type": "code",
   "execution_count": 1,
   "metadata": {},
   "outputs": [
    {
     "name": "stdout",
     "output_type": "stream",
     "text": [
      "Connect ok\n"
     ]
    }
   ],
   "source": [
    "import sqlite3\n",
    "db = sqlite3.connect('game.db')\n",
    "cursor = db.cursor()\n",
    "print('Connect ok')"
   ]
  },
  {
   "cell_type": "code",
   "execution_count": 2,
   "metadata": {},
   "outputs": [
    {
     "name": "stdout",
     "output_type": "stream",
     "text": [
      "Table created.\n"
     ]
    }
   ],
   "source": [
    "# Create table\n",
    "cursor.execute('''CREATE TABLE `happy_bird` ( `id`     INTEGER   PRIMARY KEY   AUTOINCREMENT ,\n",
    "                                           `name`   VARCHAR   NOT           NULL , \n",
    "                                           `score`  INT(255)  NOT           NULL , \n",
    "                                           `time`   DATETIME  NOT           NULL            DEFAULT CURRENT_TIMESTAMP )''')\n",
    "\n",
    "print('Table created.')\n",
    "db.commit()"
   ]
  },
  {
   "cell_type": "code",
   "execution_count": 4,
   "metadata": {},
   "outputs": [],
   "source": [
    "User='test'\n",
    "Score=50\n",
    "cursor.execute('INSERT INTO `happy_bird`( `name`, `score`) VALUES (?,?)',[User,Score])\n",
    "db.commit()"
   ]
  },
  {
   "cell_type": "code",
   "execution_count": 6,
   "metadata": {},
   "outputs": [
    {
     "data": {
      "text/plain": [
       "[(1, 'test', 50, '2020-09-23 05:44:27')]"
      ]
     },
     "execution_count": 6,
     "metadata": {},
     "output_type": "execute_result"
    }
   ],
   "source": [
    "test = cursor.execute('''SELECT * FROM `happy_bird`''')\n",
    "db.commit()\n",
    "A=list(test)\n",
    "A"
   ]
  },
  {
   "cell_type": "code",
   "execution_count": 11,
   "metadata": {},
   "outputs": [],
   "source": [
    "from datetime import datetime,timezone,timedelta\n",
    "def TW_Time(T):\n",
    "    dt1 = datetime.strptime(T, '%Y-%m-%d %H:%M:%S').replace(tzinfo=timezone.utc)\n",
    "    dt2 = dt1.astimezone(timezone(timedelta(hours=8))) # 轉換時區 -> 東八區\n",
    "    return dt2.strftime(\"%Y-%m-%d %H:%M:%S\")\n"
   ]
  },
  {
   "cell_type": "code",
   "execution_count": 14,
   "metadata": {},
   "outputs": [
    {
     "name": "stdout",
     "output_type": "stream",
     "text": [
      "1\n",
      "目前分數:   50   2020-09-23 13:44:27\n"
     ]
    }
   ],
   "source": [
    "CS = list(cursor.execute('SELECT * FROM `happy_bird` WHERE `name` = ? Order BY `time` DESC',['test']))\n",
    "if len(CS):\n",
    "    print(f'目前分數:   {CS[0][2]}   {TW_Time(CS[0][3])}')"
   ]
  },
  {
   "cell_type": "code",
   "execution_count": null,
   "metadata": {},
   "outputs": [],
   "source": []
  }
 ],
 "metadata": {
  "kernelspec": {
   "display_name": "Python 3",
   "language": "python",
   "name": "python3"
  },
  "language_info": {
   "codemirror_mode": {
    "name": "ipython",
    "version": 3
   },
   "file_extension": ".py",
   "mimetype": "text/x-python",
   "name": "python",
   "nbconvert_exporter": "python",
   "pygments_lexer": "ipython3",
   "version": "3.7.9"
  }
 },
 "nbformat": 4,
 "nbformat_minor": 4
}
